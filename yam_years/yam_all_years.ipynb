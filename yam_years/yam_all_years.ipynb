{
 "cells": [
  {
   "cell_type": "code",
   "execution_count": 1,
   "metadata": {},
   "outputs": [],
   "source": [
    "import pandas as pd"
   ]
  },
  {
   "cell_type": "code",
   "execution_count": 62,
   "metadata": {},
   "outputs": [],
   "source": [
    "from functools import reduce"
   ]
  },
  {
   "cell_type": "code",
   "execution_count": 2,
   "metadata": {},
   "outputs": [],
   "source": [
    "y0 = pd.read_csv('price_1970.csv')"
   ]
  },
  {
   "cell_type": "code",
   "execution_count": 3,
   "metadata": {},
   "outputs": [],
   "source": [
    "y1 = pd.read_csv('price_1971.csv')"
   ]
  },
  {
   "cell_type": "code",
   "execution_count": 4,
   "metadata": {},
   "outputs": [],
   "source": [
    "y2 = pd.read_csv('price_1972.csv')"
   ]
  },
  {
   "cell_type": "code",
   "execution_count": 5,
   "metadata": {},
   "outputs": [],
   "source": [
    "y3 = pd.read_csv('price_1973.csv')"
   ]
  },
  {
   "cell_type": "code",
   "execution_count": 6,
   "metadata": {},
   "outputs": [],
   "source": [
    "y4 = pd.read_csv('price_1974.csv')"
   ]
  },
  {
   "cell_type": "code",
   "execution_count": 7,
   "metadata": {},
   "outputs": [],
   "source": [
    "y5 = pd.read_csv('price_1975.csv')"
   ]
  },
  {
   "cell_type": "code",
   "execution_count": 8,
   "metadata": {},
   "outputs": [],
   "source": [
    "y6 = pd.read_csv('price_1976.csv')"
   ]
  },
  {
   "cell_type": "code",
   "execution_count": 9,
   "metadata": {},
   "outputs": [],
   "source": [
    "y7 = pd.read_csv('price_1977.csv')"
   ]
  },
  {
   "cell_type": "code",
   "execution_count": 10,
   "metadata": {},
   "outputs": [],
   "source": [
    "y8 = pd.read_csv('price_1978.csv')"
   ]
  },
  {
   "cell_type": "code",
   "execution_count": 11,
   "metadata": {},
   "outputs": [],
   "source": [
    "y9 = pd.read_csv('price_1979.csv')"
   ]
  },
  {
   "cell_type": "code",
   "execution_count": 12,
   "metadata": {},
   "outputs": [],
   "source": [
    "y10 = pd.read_csv('price_1980.csv')"
   ]
  },
  {
   "cell_type": "code",
   "execution_count": 13,
   "metadata": {},
   "outputs": [],
   "source": [
    "y11 = pd.read_csv('price_1981.csv')"
   ]
  },
  {
   "cell_type": "code",
   "execution_count": 14,
   "metadata": {},
   "outputs": [],
   "source": [
    "y12 = pd.read_csv('price_1982.csv')"
   ]
  },
  {
   "cell_type": "code",
   "execution_count": 15,
   "metadata": {},
   "outputs": [],
   "source": [
    "y13 = pd.read_csv('price_1983.csv')"
   ]
  },
  {
   "cell_type": "code",
   "execution_count": 16,
   "metadata": {},
   "outputs": [],
   "source": [
    "y14 = pd.read_csv('price_1984.csv')"
   ]
  },
  {
   "cell_type": "code",
   "execution_count": 17,
   "metadata": {},
   "outputs": [],
   "source": [
    "y15 = pd.read_csv('price_1985.csv')"
   ]
  },
  {
   "cell_type": "code",
   "execution_count": 18,
   "metadata": {},
   "outputs": [],
   "source": [
    "y16 = pd.read_csv('price_1986.csv')"
   ]
  },
  {
   "cell_type": "code",
   "execution_count": 19,
   "metadata": {},
   "outputs": [],
   "source": [
    "y17 = pd.read_csv('price_1987.csv')"
   ]
  },
  {
   "cell_type": "code",
   "execution_count": 20,
   "metadata": {},
   "outputs": [],
   "source": [
    "y18 = pd.read_csv('price_1988.csv')"
   ]
  },
  {
   "cell_type": "code",
   "execution_count": 21,
   "metadata": {},
   "outputs": [],
   "source": [
    "y19 = pd.read_csv('price_1989.csv')"
   ]
  },
  {
   "cell_type": "code",
   "execution_count": 22,
   "metadata": {},
   "outputs": [],
   "source": [
    "y20 = pd.read_csv('price_1990.csv')"
   ]
  },
  {
   "cell_type": "code",
   "execution_count": 23,
   "metadata": {},
   "outputs": [],
   "source": [
    "y21 = pd.read_csv('price_1991.csv')"
   ]
  },
  {
   "cell_type": "code",
   "execution_count": 24,
   "metadata": {},
   "outputs": [],
   "source": [
    "y22 = pd.read_csv('price_1992.csv')"
   ]
  },
  {
   "cell_type": "code",
   "execution_count": 25,
   "metadata": {},
   "outputs": [],
   "source": [
    "y23 = pd.read_csv('price_1993.csv')"
   ]
  },
  {
   "cell_type": "code",
   "execution_count": 26,
   "metadata": {},
   "outputs": [],
   "source": [
    "y24 = pd.read_csv('price_1994.csv')"
   ]
  },
  {
   "cell_type": "code",
   "execution_count": 27,
   "metadata": {},
   "outputs": [],
   "source": [
    "y25 = pd.read_csv('price_1995.csv')"
   ]
  },
  {
   "cell_type": "code",
   "execution_count": 28,
   "metadata": {},
   "outputs": [],
   "source": [
    "y26 = pd.read_csv('price_1996.csv')"
   ]
  },
  {
   "cell_type": "code",
   "execution_count": 29,
   "metadata": {},
   "outputs": [],
   "source": [
    "y27 = pd.read_csv('price_1997.csv')"
   ]
  },
  {
   "cell_type": "code",
   "execution_count": 30,
   "metadata": {},
   "outputs": [],
   "source": [
    "y28 = pd.read_csv('price_1998.csv')"
   ]
  },
  {
   "cell_type": "code",
   "execution_count": 31,
   "metadata": {},
   "outputs": [],
   "source": [
    "y29 = pd.read_csv('price_1999.csv')"
   ]
  },
  {
   "cell_type": "code",
   "execution_count": 32,
   "metadata": {},
   "outputs": [],
   "source": [
    "y30 = pd.read_csv('price_2000.csv')"
   ]
  },
  {
   "cell_type": "code",
   "execution_count": 33,
   "metadata": {},
   "outputs": [],
   "source": [
    "y31 = pd.read_csv('price_2001.csv')"
   ]
  },
  {
   "cell_type": "code",
   "execution_count": 34,
   "metadata": {},
   "outputs": [],
   "source": [
    "y32 = pd.read_csv('price_2002.csv')"
   ]
  },
  {
   "cell_type": "code",
   "execution_count": 35,
   "metadata": {},
   "outputs": [],
   "source": [
    "y33 = pd.read_csv('price_2003.csv')"
   ]
  },
  {
   "cell_type": "code",
   "execution_count": 36,
   "metadata": {},
   "outputs": [],
   "source": [
    "y34 = pd.read_csv('price_2004.csv')"
   ]
  },
  {
   "cell_type": "code",
   "execution_count": 37,
   "metadata": {},
   "outputs": [],
   "source": [
    "y35 = pd.read_csv('price_2005.csv')"
   ]
  },
  {
   "cell_type": "code",
   "execution_count": 38,
   "metadata": {},
   "outputs": [],
   "source": [
    "y36 = pd.read_csv('price_2006.csv')"
   ]
  },
  {
   "cell_type": "code",
   "execution_count": 39,
   "metadata": {},
   "outputs": [],
   "source": [
    "y37 = pd.read_csv('price_2007.csv')"
   ]
  },
  {
   "cell_type": "code",
   "execution_count": 40,
   "metadata": {},
   "outputs": [],
   "source": [
    "y38 = pd.read_csv('price_2008.csv')"
   ]
  },
  {
   "cell_type": "code",
   "execution_count": 41,
   "metadata": {},
   "outputs": [],
   "source": [
    "y39 = pd.read_csv('price_2009.csv')"
   ]
  },
  {
   "cell_type": "code",
   "execution_count": 42,
   "metadata": {},
   "outputs": [],
   "source": [
    "y40 = pd.read_csv('price_2010.csv')"
   ]
  },
  {
   "cell_type": "code",
   "execution_count": 43,
   "metadata": {},
   "outputs": [],
   "source": [
    "y41 = pd.read_csv('price_2011.csv')"
   ]
  },
  {
   "cell_type": "code",
   "execution_count": 44,
   "metadata": {},
   "outputs": [],
   "source": [
    "y42 = pd.read_csv('price_2012.csv')"
   ]
  },
  {
   "cell_type": "code",
   "execution_count": 45,
   "metadata": {},
   "outputs": [],
   "source": [
    "y43 = pd.read_csv('price_2013.csv')"
   ]
  },
  {
   "cell_type": "code",
   "execution_count": 46,
   "metadata": {},
   "outputs": [],
   "source": [
    "y44 = pd.read_csv('price_2014.csv')"
   ]
  },
  {
   "cell_type": "code",
   "execution_count": 47,
   "metadata": {},
   "outputs": [],
   "source": [
    "y45 = pd.read_csv('price_2015.csv')"
   ]
  },
  {
   "cell_type": "code",
   "execution_count": 48,
   "metadata": {},
   "outputs": [],
   "source": [
    "y46 = pd.read_csv('price_2016.csv')"
   ]
  },
  {
   "cell_type": "code",
   "execution_count": 49,
   "metadata": {},
   "outputs": [],
   "source": [
    "y47 = pd.read_csv('price_2017.csv')"
   ]
  },
  {
   "cell_type": "code",
   "execution_count": 63,
   "metadata": {},
   "outputs": [],
   "source": [
    "yam_all_ = [y0,y1,y3,y4,y5,y6,y7,y8,y9,y10,y11,y12,y13,y14,y15,y16,y17,y18,y19,y20,y21,y22,y23,y24,y25,y26,y27,y28,y29,y30,y31,y32,y33,y34,y35,y36,y37,y38,y39,y40,y41,y42,y43,y44,y45,y46,y47]"
   ]
  },
  {
   "cell_type": "code",
   "execution_count": 64,
   "metadata": {},
   "outputs": [],
   "source": [
    "yam_all_year = reduce(lambda left,right: pd.merge(left,right,on='Year'), yam_all_)"
   ]
  },
  {
   "cell_type": "code",
   "execution_count": 65,
   "metadata": {},
   "outputs": [
    {
     "data": {
      "text/html": [
       "<div>\n",
       "<style scoped>\n",
       "    .dataframe tbody tr th:only-of-type {\n",
       "        vertical-align: middle;\n",
       "    }\n",
       "\n",
       "    .dataframe tbody tr th {\n",
       "        vertical-align: top;\n",
       "    }\n",
       "\n",
       "    .dataframe thead th {\n",
       "        text-align: right;\n",
       "    }\n",
       "</style>\n",
       "<table border=\"1\" class=\"dataframe\">\n",
       "  <thead>\n",
       "    <tr style=\"text-align: right;\">\n",
       "      <th></th>\n",
       "      <th>Year</th>\n",
       "      <th>1970</th>\n",
       "      <th>1971</th>\n",
       "      <th>1973</th>\n",
       "      <th>1974</th>\n",
       "      <th>1975</th>\n",
       "      <th>1976</th>\n",
       "      <th>1977</th>\n",
       "      <th>1978</th>\n",
       "      <th>1979</th>\n",
       "      <th>...</th>\n",
       "      <th>2008</th>\n",
       "      <th>2009</th>\n",
       "      <th>2010</th>\n",
       "      <th>2011</th>\n",
       "      <th>2012</th>\n",
       "      <th>2013</th>\n",
       "      <th>2014</th>\n",
       "      <th>2015</th>\n",
       "      <th>2016</th>\n",
       "      <th>2017</th>\n",
       "    </tr>\n",
       "  </thead>\n",
       "  <tbody>\n",
       "    <tr>\n",
       "      <th>0</th>\n",
       "      <td>JANUARY</td>\n",
       "      <td>0.003200</td>\n",
       "      <td>0.003700</td>\n",
       "      <td>0.004500</td>\n",
       "      <td>0.006800</td>\n",
       "      <td>0.008300</td>\n",
       "      <td>0.0123</td>\n",
       "      <td>0.028000</td>\n",
       "      <td>0.03880</td>\n",
       "      <td>0.032000</td>\n",
       "      <td>...</td>\n",
       "      <td>84.27</td>\n",
       "      <td>108.80</td>\n",
       "      <td>130.19</td>\n",
       "      <td>154.22</td>\n",
       "      <td>185.25</td>\n",
       "      <td>245.70</td>\n",
       "      <td>231.59</td>\n",
       "      <td>256.87</td>\n",
       "      <td>375.13</td>\n",
       "      <td>473.95</td>\n",
       "    </tr>\n",
       "    <tr>\n",
       "      <th>1</th>\n",
       "      <td>FEBRUARY</td>\n",
       "      <td>0.003100</td>\n",
       "      <td>0.003900</td>\n",
       "      <td>0.005300</td>\n",
       "      <td>0.007000</td>\n",
       "      <td>0.008800</td>\n",
       "      <td>0.0106</td>\n",
       "      <td>0.020000</td>\n",
       "      <td>0.04160</td>\n",
       "      <td>0.054100</td>\n",
       "      <td>...</td>\n",
       "      <td>90.72</td>\n",
       "      <td>115.50</td>\n",
       "      <td>139.96</td>\n",
       "      <td>150.10</td>\n",
       "      <td>195.75</td>\n",
       "      <td>251.80</td>\n",
       "      <td>240.31</td>\n",
       "      <td>259.37</td>\n",
       "      <td>382.98</td>\n",
       "      <td>476.47</td>\n",
       "    </tr>\n",
       "    <tr>\n",
       "      <th>2</th>\n",
       "      <td>MARCH</td>\n",
       "      <td>0.003500</td>\n",
       "      <td>0.004000</td>\n",
       "      <td>0.005700</td>\n",
       "      <td>0.007500</td>\n",
       "      <td>0.009000</td>\n",
       "      <td>0.0122</td>\n",
       "      <td>0.016500</td>\n",
       "      <td>0.04140</td>\n",
       "      <td>0.072700</td>\n",
       "      <td>...</td>\n",
       "      <td>96.81</td>\n",
       "      <td>109.32</td>\n",
       "      <td>142.42</td>\n",
       "      <td>160.43</td>\n",
       "      <td>203.77</td>\n",
       "      <td>250.00</td>\n",
       "      <td>252.87</td>\n",
       "      <td>277.06</td>\n",
       "      <td>423.63</td>\n",
       "      <td>528.26</td>\n",
       "    </tr>\n",
       "    <tr>\n",
       "      <th>3</th>\n",
       "      <td>APRIL</td>\n",
       "      <td>0.003700</td>\n",
       "      <td>0.003400</td>\n",
       "      <td>0.006000</td>\n",
       "      <td>0.007700</td>\n",
       "      <td>0.008900</td>\n",
       "      <td>0.0138</td>\n",
       "      <td>0.029500</td>\n",
       "      <td>0.05020</td>\n",
       "      <td>0.065300</td>\n",
       "      <td>...</td>\n",
       "      <td>113.13</td>\n",
       "      <td>123.93</td>\n",
       "      <td>153.88</td>\n",
       "      <td>173.61</td>\n",
       "      <td>208.18</td>\n",
       "      <td>270.32</td>\n",
       "      <td>263.83</td>\n",
       "      <td>287.39</td>\n",
       "      <td>473.10</td>\n",
       "      <td>561.18</td>\n",
       "    </tr>\n",
       "    <tr>\n",
       "      <th>4</th>\n",
       "      <td>MAY</td>\n",
       "      <td>0.004000</td>\n",
       "      <td>0.005100</td>\n",
       "      <td>0.006700</td>\n",
       "      <td>0.008100</td>\n",
       "      <td>0.010600</td>\n",
       "      <td>0.0136</td>\n",
       "      <td>0.029100</td>\n",
       "      <td>0.05900</td>\n",
       "      <td>0.083000</td>\n",
       "      <td>...</td>\n",
       "      <td>124.89</td>\n",
       "      <td>130.90</td>\n",
       "      <td>167.71</td>\n",
       "      <td>190.91</td>\n",
       "      <td>246.16</td>\n",
       "      <td>297.40</td>\n",
       "      <td>295.13</td>\n",
       "      <td>345.26</td>\n",
       "      <td>524.89</td>\n",
       "      <td>551.12</td>\n",
       "    </tr>\n",
       "    <tr>\n",
       "      <th>5</th>\n",
       "      <td>JUNE</td>\n",
       "      <td>0.003900</td>\n",
       "      <td>0.005400</td>\n",
       "      <td>0.006700</td>\n",
       "      <td>0.009000</td>\n",
       "      <td>0.009900</td>\n",
       "      <td>0.0164</td>\n",
       "      <td>0.044300</td>\n",
       "      <td>0.06880</td>\n",
       "      <td>0.077300</td>\n",
       "      <td>...</td>\n",
       "      <td>131.54</td>\n",
       "      <td>135.03</td>\n",
       "      <td>194.79</td>\n",
       "      <td>194.23</td>\n",
       "      <td>280.46</td>\n",
       "      <td>282.81</td>\n",
       "      <td>344.45</td>\n",
       "      <td>378.35</td>\n",
       "      <td>507.00</td>\n",
       "      <td>637.65</td>\n",
       "    </tr>\n",
       "    <tr>\n",
       "      <th>6</th>\n",
       "      <td>JULY</td>\n",
       "      <td>0.003600</td>\n",
       "      <td>0.003900</td>\n",
       "      <td>0.005500</td>\n",
       "      <td>0.007000</td>\n",
       "      <td>0.009300</td>\n",
       "      <td>0.0168</td>\n",
       "      <td>0.044000</td>\n",
       "      <td>0.05650</td>\n",
       "      <td>0.057600</td>\n",
       "      <td>...</td>\n",
       "      <td>129.53</td>\n",
       "      <td>121.35</td>\n",
       "      <td>196.37</td>\n",
       "      <td>202.10</td>\n",
       "      <td>258.30</td>\n",
       "      <td>265.80</td>\n",
       "      <td>322.36</td>\n",
       "      <td>376.93</td>\n",
       "      <td>507.53</td>\n",
       "      <td>589.93</td>\n",
       "    </tr>\n",
       "    <tr>\n",
       "      <th>7</th>\n",
       "      <td>AUGUST</td>\n",
       "      <td>0.003700</td>\n",
       "      <td>0.003400</td>\n",
       "      <td>0.004700</td>\n",
       "      <td>0.005700</td>\n",
       "      <td>0.007100</td>\n",
       "      <td>0.0144</td>\n",
       "      <td>0.030300</td>\n",
       "      <td>0.04180</td>\n",
       "      <td>0.048100</td>\n",
       "      <td>...</td>\n",
       "      <td>94.41</td>\n",
       "      <td>112.04</td>\n",
       "      <td>140.13</td>\n",
       "      <td>156.60</td>\n",
       "      <td>203.10</td>\n",
       "      <td>216.60</td>\n",
       "      <td>285.30</td>\n",
       "      <td>368.40</td>\n",
       "      <td>422.70</td>\n",
       "      <td>524.45</td>\n",
       "    </tr>\n",
       "    <tr>\n",
       "      <th>8</th>\n",
       "      <td>SEPTEMBER</td>\n",
       "      <td>0.003100</td>\n",
       "      <td>0.003000</td>\n",
       "      <td>0.004300</td>\n",
       "      <td>0.005300</td>\n",
       "      <td>0.007300</td>\n",
       "      <td>0.0139</td>\n",
       "      <td>0.024500</td>\n",
       "      <td>0.03510</td>\n",
       "      <td>0.040700</td>\n",
       "      <td>...</td>\n",
       "      <td>80.70</td>\n",
       "      <td>112.40</td>\n",
       "      <td>115.82</td>\n",
       "      <td>132.91</td>\n",
       "      <td>185.46</td>\n",
       "      <td>183.90</td>\n",
       "      <td>239.67</td>\n",
       "      <td>301.04</td>\n",
       "      <td>383.06</td>\n",
       "      <td>482.71</td>\n",
       "    </tr>\n",
       "    <tr>\n",
       "      <th>9</th>\n",
       "      <td>OCTOBER</td>\n",
       "      <td>0.003000</td>\n",
       "      <td>0.003000</td>\n",
       "      <td>0.004200</td>\n",
       "      <td>0.005600</td>\n",
       "      <td>0.015700</td>\n",
       "      <td>0.0116</td>\n",
       "      <td>0.023800</td>\n",
       "      <td>0.03480</td>\n",
       "      <td>0.051600</td>\n",
       "      <td>...</td>\n",
       "      <td>80.96</td>\n",
       "      <td>113.48</td>\n",
       "      <td>124.65</td>\n",
       "      <td>130.15</td>\n",
       "      <td>191.70</td>\n",
       "      <td>209.83</td>\n",
       "      <td>230.58</td>\n",
       "      <td>309.44</td>\n",
       "      <td>383.06</td>\n",
       "      <td>447.24</td>\n",
       "    </tr>\n",
       "    <tr>\n",
       "      <th>10</th>\n",
       "      <td>NOVEMBER</td>\n",
       "      <td>0.003300</td>\n",
       "      <td>0.003400</td>\n",
       "      <td>0.005400</td>\n",
       "      <td>0.006600</td>\n",
       "      <td>0.008900</td>\n",
       "      <td>0.0118</td>\n",
       "      <td>0.031100</td>\n",
       "      <td>0.04600</td>\n",
       "      <td>0.055900</td>\n",
       "      <td>...</td>\n",
       "      <td>92.00</td>\n",
       "      <td>120.64</td>\n",
       "      <td>114.45</td>\n",
       "      <td>136.10</td>\n",
       "      <td>202.00</td>\n",
       "      <td>209.83</td>\n",
       "      <td>231.92</td>\n",
       "      <td>327.25</td>\n",
       "      <td>400.17</td>\n",
       "      <td>462.33</td>\n",
       "    </tr>\n",
       "    <tr>\n",
       "      <th>11</th>\n",
       "      <td>DECEMBER</td>\n",
       "      <td>0.003500</td>\n",
       "      <td>0.004200</td>\n",
       "      <td>0.006300</td>\n",
       "      <td>0.007300</td>\n",
       "      <td>0.010500</td>\n",
       "      <td>0.0182</td>\n",
       "      <td>0.028200</td>\n",
       "      <td>0.05180</td>\n",
       "      <td>0.063600</td>\n",
       "      <td>...</td>\n",
       "      <td>96.19</td>\n",
       "      <td>137.84</td>\n",
       "      <td>132.85</td>\n",
       "      <td>159.44</td>\n",
       "      <td>218.90</td>\n",
       "      <td>249.30</td>\n",
       "      <td>268.00</td>\n",
       "      <td>345.17</td>\n",
       "      <td>424.69</td>\n",
       "      <td>461.76</td>\n",
       "    </tr>\n",
       "    <tr>\n",
       "      <th>12</th>\n",
       "      <td>AVERAGE</td>\n",
       "      <td>0.003467</td>\n",
       "      <td>0.003867</td>\n",
       "      <td>0.005442</td>\n",
       "      <td>0.006967</td>\n",
       "      <td>0.009525</td>\n",
       "      <td>0.0138</td>\n",
       "      <td>0.029108</td>\n",
       "      <td>0.04715</td>\n",
       "      <td>0.058492</td>\n",
       "      <td>...</td>\n",
       "      <td>101.26</td>\n",
       "      <td>120.10</td>\n",
       "      <td>146.10</td>\n",
       "      <td>161.73</td>\n",
       "      <td>214.92</td>\n",
       "      <td>244.44</td>\n",
       "      <td>267.17</td>\n",
       "      <td>319.38</td>\n",
       "      <td>434.00</td>\n",
       "      <td>516.42</td>\n",
       "    </tr>\n",
       "  </tbody>\n",
       "</table>\n",
       "<p>13 rows × 48 columns</p>\n",
       "</div>"
      ],
      "text/plain": [
       "         Year      1970      1971      1973      1974      1975    1976  \\\n",
       "0     JANUARY  0.003200  0.003700  0.004500  0.006800  0.008300  0.0123   \n",
       "1    FEBRUARY  0.003100  0.003900  0.005300  0.007000  0.008800  0.0106   \n",
       "2       MARCH  0.003500  0.004000  0.005700  0.007500  0.009000  0.0122   \n",
       "3       APRIL  0.003700  0.003400  0.006000  0.007700  0.008900  0.0138   \n",
       "4         MAY  0.004000  0.005100  0.006700  0.008100  0.010600  0.0136   \n",
       "5        JUNE  0.003900  0.005400  0.006700  0.009000  0.009900  0.0164   \n",
       "6        JULY  0.003600  0.003900  0.005500  0.007000  0.009300  0.0168   \n",
       "7      AUGUST  0.003700  0.003400  0.004700  0.005700  0.007100  0.0144   \n",
       "8   SEPTEMBER  0.003100  0.003000  0.004300  0.005300  0.007300  0.0139   \n",
       "9     OCTOBER  0.003000  0.003000  0.004200  0.005600  0.015700  0.0116   \n",
       "10   NOVEMBER  0.003300  0.003400  0.005400  0.006600  0.008900  0.0118   \n",
       "11   DECEMBER  0.003500  0.004200  0.006300  0.007300  0.010500  0.0182   \n",
       "12    AVERAGE  0.003467  0.003867  0.005442  0.006967  0.009525  0.0138   \n",
       "\n",
       "        1977     1978      1979  ...    2008    2009    2010    2011    2012  \\\n",
       "0   0.028000  0.03880  0.032000  ...   84.27  108.80  130.19  154.22  185.25   \n",
       "1   0.020000  0.04160  0.054100  ...   90.72  115.50  139.96  150.10  195.75   \n",
       "2   0.016500  0.04140  0.072700  ...   96.81  109.32  142.42  160.43  203.77   \n",
       "3   0.029500  0.05020  0.065300  ...  113.13  123.93  153.88  173.61  208.18   \n",
       "4   0.029100  0.05900  0.083000  ...  124.89  130.90  167.71  190.91  246.16   \n",
       "5   0.044300  0.06880  0.077300  ...  131.54  135.03  194.79  194.23  280.46   \n",
       "6   0.044000  0.05650  0.057600  ...  129.53  121.35  196.37  202.10  258.30   \n",
       "7   0.030300  0.04180  0.048100  ...   94.41  112.04  140.13  156.60  203.10   \n",
       "8   0.024500  0.03510  0.040700  ...   80.70  112.40  115.82  132.91  185.46   \n",
       "9   0.023800  0.03480  0.051600  ...   80.96  113.48  124.65  130.15  191.70   \n",
       "10  0.031100  0.04600  0.055900  ...   92.00  120.64  114.45  136.10  202.00   \n",
       "11  0.028200  0.05180  0.063600  ...   96.19  137.84  132.85  159.44  218.90   \n",
       "12  0.029108  0.04715  0.058492  ...  101.26  120.10  146.10  161.73  214.92   \n",
       "\n",
       "      2013    2014    2015    2016    2017  \n",
       "0   245.70  231.59  256.87  375.13  473.95  \n",
       "1   251.80  240.31  259.37  382.98  476.47  \n",
       "2   250.00  252.87  277.06  423.63  528.26  \n",
       "3   270.32  263.83  287.39  473.10  561.18  \n",
       "4   297.40  295.13  345.26  524.89  551.12  \n",
       "5   282.81  344.45  378.35  507.00  637.65  \n",
       "6   265.80  322.36  376.93  507.53  589.93  \n",
       "7   216.60  285.30  368.40  422.70  524.45  \n",
       "8   183.90  239.67  301.04  383.06  482.71  \n",
       "9   209.83  230.58  309.44  383.06  447.24  \n",
       "10  209.83  231.92  327.25  400.17  462.33  \n",
       "11  249.30  268.00  345.17  424.69  461.76  \n",
       "12  244.44  267.17  319.38  434.00  516.42  \n",
       "\n",
       "[13 rows x 48 columns]"
      ]
     },
     "execution_count": 65,
     "metadata": {},
     "output_type": "execute_result"
    }
   ],
   "source": [
    "yam_all_year"
   ]
  },
  {
   "cell_type": "code",
   "execution_count": 66,
   "metadata": {},
   "outputs": [],
   "source": [
    "yam_all_year.to_csv('yam_all_year.csv')"
   ]
  },
  {
   "cell_type": "code",
   "execution_count": null,
   "metadata": {},
   "outputs": [],
   "source": []
  }
 ],
 "metadata": {
  "kernelspec": {
   "display_name": "Python 3",
   "language": "python",
   "name": "python3"
  },
  "language_info": {
   "codemirror_mode": {
    "name": "ipython",
    "version": 3
   },
   "file_extension": ".py",
   "mimetype": "text/x-python",
   "name": "python",
   "nbconvert_exporter": "python",
   "pygments_lexer": "ipython3",
   "version": "3.6.7"
  }
 },
 "nbformat": 4,
 "nbformat_minor": 2
}
